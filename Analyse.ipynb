{
 "cells": [
  {
   "cell_type": "markdown",
   "metadata": {},
   "source": [
    "# Analyse du Dataset\n",
    "L'objectif de cette partie est de préparer la base afin de simplifier le processus d'apprentissage et de s'assurer qu'aucune anomalie pouvant affecter ce dernier ne s'est glissée dans la base de données\n",
    " ## Pré-traitement / Lecture des données et labélisation"
   ]
  },
  {
   "cell_type": "code",
   "execution_count": 2,
   "metadata": {},
   "outputs": [],
   "source": [
    "import glob\n",
    "from pathlib import Path\n",
    "import matplotlib.pyplot as plt\n",
    "import pandas as pd\n",
    "import seaborn as sns\n",
    "%matplotlib inline"
   ]
  },
  {
   "cell_type": "code",
   "execution_count": 3,
   "metadata": {},
   "outputs": [],
   "source": [
    "data_test_normal = Path('./data/test/NORMAL').glob('*.jpeg')\n",
    "data_test_pneumo = Path('./data/test/PNEUMONIA').glob('*.jpeg')\n",
    "data_val_normal = Path('./data/val/NORMAL').glob('*.jpeg')\n",
    "data_val_pneumo = Path('./data/val/PNEUMONIA').glob('*.jpeg')\n",
    "data_train_normal = Path('./data/train/NORMAL').glob('*.jpeg')\n",
    "data_train_pneumo = Path('./data/train/PNEUMONIA').glob('*.jpeg')"
   ]
  },
  {
   "cell_type": "code",
   "execution_count": 4,
   "metadata": {},
   "outputs": [],
   "source": [
    "test_data = []\n",
    "for img in data_test_normal:\n",
    "    test_data.append((img,0))\n",
    "for img in data_test_pneumo:\n",
    "    test_data.append((img,1))\n",
    "    \n",
    "val_data = []\n",
    "for img in data_val_normal:\n",
    "    val_data.append((img,0))\n",
    "for img in data_val_pneumo:\n",
    "    val_data.append((img,1))\n",
    "    \n",
    "train_data = []\n",
    "for img in data_train_normal:\n",
    "    train_data.append((img,0))\n",
    "for img in data_train_pneumo:\n",
    "    train_data.append((img,1))"
   ]
  },
  {
   "cell_type": "markdown",
   "metadata": {},
   "source": [
    "# Vérifications\n",
    "Interessons nous à la répartition du Dataset plus en détails\n",
    "## Répartition Test/Train/Val"
   ]
  },
  {
   "cell_type": "code",
   "execution_count": 5,
   "metadata": {},
   "outputs": [
    {
     "data": {
      "image/png": "[encoded data removed]",
      "text/plain": [
       "<Figure size 432x288 with 1 Axes>"
      ]
     },
     "metadata": {},
     "output_type": "display_data"
    }
   ],
   "source": [
    "values = (len(test_data),len(train_data),len(val_data))\n",
    "total = values[0] + values[1] + values[2]\n",
    "sizes = [values[0]/total,values[1]/total,values[2]/2]\n",
    "labels = 'Validation set', 'Test set', 'Training set'\n",
    "colors = ['yellowgreen', 'gold', 'lightskyblue']\n",
    "explode = (0.1, 0.0, 0.0)\n",
    "pt = plt.pie(sizes, labels=labels,explode = explode, colors=colors, \n",
    "        autopct='%1.1f%%', shadow=True, startangle=90)\n",
    "plt.axis('equal')\n",
    "plt.savefig('./graphs/repart_set.png')"
   ]
  },
  {
   "cell_type": "code",
   "execution_count": 6,
   "metadata": {},
   "outputs": [
    {
     "data": {
      "text/plain": [
       "(624, 5216, 16)"
      ]
     },
     "execution_count": 6,
     "metadata": {},
     "output_type": "execute_result"
    }
   ],
   "source": [
    "values"
   ]
  },
  {
   "cell_type": "markdown",
   "metadata": {},
   "source": [
    "On a donc une répartition en 90/10 entre la base d'entrainement (5216 images) et celle de test (624 images). On dispose également de 16 images de validation."
   ]
  },
  {
   "cell_type": "markdown",
   "metadata": {},
   "source": [
    "## Répartition dans les classes\n",
    "On va s'interesser ici uniquement à la répartition des classes dans le Training set"
   ]
  },
  {
   "cell_type": "code",
   "execution_count": 7,
   "metadata": {},
   "outputs": [],
   "source": [
    "train_data = pd.DataFrame(train_data, columns=['image', 'label'],index=None)\n",
    "train_data = train_data.sample(frac=1.).reset_index(drop=True)\n",
    "train_data.to_pickle(\"./data_preprocess/train.pkl\")\n",
    "\n",
    "test_data = pd.DataFrame(test_data, columns=['image', 'label'],index=None)\n",
    "test_data = test_data.sample(frac=1.).reset_index(drop=True)\n",
    "test_data.to_pickle(\"./data_preprocess/test.pkl\")\n",
    "\n",
    "val_data = pd.DataFrame(val_data, columns=['image', 'label'],index=None)\n",
    "val_data = val_data.sample(frac=1.).reset_index(drop=True)\n",
    "val_data.to_pickle(\"./data_preprocess/val.pkl\")"
   ]
  },
  {
   "cell_type": "code",
   "execution_count": 8,
   "metadata": {},
   "outputs": [],
   "source": [
    "cases_count_train = train_data['label'].value_counts()"
   ]
  },
  {
   "cell_type": "code",
   "execution_count": 9,
   "metadata": {},
   "outputs": [
    {
     "data": {
      "image/png": "[encoded data removed]",
      "text/plain": [
       "<Figure size 432x288 with 1 Axes>"
      ]
     },
     "metadata": {
      "needs_background": "light"
     },
     "output_type": "display_data"
    }
   ],
   "source": [
    "plt.figure(figsize=(6,4))\n",
    "sns.barplot(x=cases_count_train.index, y= cases_count_train.values)\n",
    "plt.title('Répartition du Training set', fontsize=14)\n",
    "plt.xlabel('Type', fontsize=12)\n",
    "plt.ylabel('Nombre', fontsize=12)\n",
    "plt.xticks(range(len(cases_count_train.index)), ['Normal (0)', 'Malade (1)'])\n",
    "plt.savefig('./graphs/repart_class.png')"
   ]
  },
  {
   "cell_type": "markdown",
   "metadata": {},
   "source": [
    "Comme on le voit, les deux classes ne sont pas réparties de façon égale dans le Training set. Il faudra donc faire attention à ne pas tomber dans un \"Accuracy Paradox\"."
   ]
  }
 ],
 "metadata": {
  "kernelspec": {
   "display_name": "Python 3",
   "language": "python",
   "name": "python3"
  },
  "language_info": {
   "codemirror_mode": {
    "name": "ipython",
    "version": 3
   },
   "file_extension": ".py",
   "mimetype": "text/x-python",
   "name": "python",
   "nbconvert_exporter": "python",
   "pygments_lexer": "ipython3",
   "version": "3.7.1"
  }
 },
 "nbformat": 4,
 "nbformat_minor": 2
}
